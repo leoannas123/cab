{
 "cells": [
  {
   "cell_type": "code",
   "execution_count": 1,
   "id": "e193c722",
   "metadata": {},
   "outputs": [
    {
     "name": "stdout",
     "output_type": "stream",
     "text": [
      "Enter Salary\n",
      "15000\n",
      "Enter year of service\n",
      "3\n",
      "No bonus\n"
     ]
    }
   ],
   "source": [
    "print(\"Enter Salary\")\n",
    "salary=int(input())\n",
    "print(\"Enter year of service\")\n",
    "yos=int(input())\n",
    "if yos>5:\n",
    "    print(\"Bonus is\",.05*salary)\n",
    "else:\n",
    "    print(\"No bonus\")"
   ]
  },
  {
   "cell_type": "code",
   "execution_count": 2,
   "id": "d73d60e2",
   "metadata": {},
   "outputs": [
    {
     "name": "stdout",
     "output_type": "stream",
     "text": [
      "Enter length\n",
      "67\n",
      "Enter breadth\n",
      "78\n",
      "No,it is only Rectangle\n"
     ]
    }
   ],
   "source": [
    "print(\"Enter length\")\n",
    "length=int(input())\n",
    "print(\"Enter breadth\")\n",
    "breadth=int(input())\n",
    "if length==breadth:\n",
    "    print(\"yes,it is square\")\n",
    "else:\n",
    "    print(\"No,it is only Rectangle\")"
   ]
  },
  {
   "cell_type": "code",
   "execution_count": 3,
   "id": "6cbf9f5f",
   "metadata": {},
   "outputs": [
    {
     "name": "stdout",
     "output_type": "stream",
     "text": [
      "Enter first number\n",
      "55\n",
      "Enter second number\n",
      "67\n",
      "Greatest is 67\n"
     ]
    }
   ],
   "source": [
    "print(\"Enter first number\")\n",
    "first=int(input())\n",
    "print(\"Enter second number\")\n",
    "second=int(input())\n",
    "if first>second:\n",
    "    print(\"Greatest is\",first)\n",
    "elif second>first:\n",
    "    print(\"Greatest is\",second)\n",
    "else:\n",
    "    print(\"Both are equal\")"
   ]
  },
  {
   "cell_type": "code",
   "execution_count": 13,
   "id": "3e1ccb25",
   "metadata": {},
   "outputs": [
    {
     "name": "stdout",
     "output_type": "stream",
     "text": [
      "Enter quantity\n",
      "100\n",
      "Cost is 9000.0\n"
     ]
    }
   ],
   "source": [
    "print(\"Enter quantity\")\n",
    "quantity=int(input())\n",
    "if quantity*100>1000:\n",
    "    print(\"Cost is\",((quantity*100)-(.1*quantity*100)))\n",
    "else:\n",
    "    print(\"cost is quantity\")"
   ]
  },
  {
   "cell_type": "code",
   "execution_count": 1,
   "id": "a91e28e6",
   "metadata": {},
   "outputs": [
    {
     "name": "stdout",
     "output_type": "stream",
     "text": [
      "Enter marks\n",
      "70\n",
      "B\n"
     ]
    }
   ],
   "source": [
    "print(\"Enter marks\")\n",
    "marks=int(input())\n",
    "if marks<25:\n",
    "    print(\"F\")\n",
    "elif marks>=25 and marks<45:\n",
    "    print(\"E\")\n",
    "elif marks>=45 and marks<50:\n",
    "    print (\"D\")\n",
    "elif marks>50 and marks<60:\n",
    "    print(\"C\")\n",
    "elif marks>60 and marks<80:\n",
    "    print (\"B\")\n",
    "else:\n",
    "    print(\"A\")"
   ]
  },
  {
   "cell_type": "code",
   "execution_count": 9,
   "id": "d3ffc3d4",
   "metadata": {},
   "outputs": [
    {
     "name": "stdout",
     "output_type": "stream",
     "text": [
      "Enter first age\n",
      "20\n",
      "Enter second age\n",
      "24\n",
      "third age\n",
      "30\n",
      "All are equal\n"
     ]
    }
   ],
   "source": [
    "print(\"Enter first age\")\n",
    "first=int(input())\n",
    "print(\"Enter second age\")\n",
    "second=int(input())\n",
    "print(\"third age\")\n",
    "third=int(input())\n",
    "if first>=second and first >=third:\n",
    "    print(\"Oldest is\",first)\n",
    "elif second>=first and second>=third:\n",
    "    print(\"Oldest is,third\")\n",
    "else:\n",
    "    print(\"All are equal\")\n"
   ]
  },
  {
   "cell_type": "code",
   "execution_count": 10,
   "id": "f5f5c0ee",
   "metadata": {},
   "outputs": [
    {
     "name": "stdout",
     "output_type": "stream",
     "text": [
      "Enter number\n",
      "100\n",
      "number\n"
     ]
    }
   ],
   "source": [
    "print(\"Enter number\")\n",
    "number=int(input())\n",
    "if number<0:\n",
    "    print(number*-1)\n",
    "else:\n",
    "    print(\"number\")"
   ]
  },
  {
   "cell_type": "code",
   "execution_count": 6,
   "id": "a5d539a5",
   "metadata": {},
   "outputs": [
    {
     "name": "stdout",
     "output_type": "stream",
     "text": [
      "Number of classes held\n",
      "50\n",
      "Number of classes attended\n",
      "34\n",
      "Attendence is 68.0\n",
      "Sorry you are not allowed .Attend more classes from next time\n"
     ]
    }
   ],
   "source": [
    "print(\"Number of classes held\")\n",
    "noh=int(input())\n",
    "print(\"Number of classes attended\")\n",
    "noa=int(input())\n",
    "atten=(noa/float(noh))*100\n",
    "print(\"Attendence is\",atten)\n",
    "if atten >=75:\n",
    "    print(\"You are allowed to sit in exam\")\n",
    "else:\n",
    "    print(\"Sorry you are not allowed .Attend more classes from next time\")"
   ]
  },
  {
   "cell_type": "code",
   "execution_count": 7,
   "id": "9a0268a7",
   "metadata": {},
   "outputs": [
    {
     "name": "stdout",
     "output_type": "stream",
     "text": [
      "enter your medical cause:Y\n",
      "You are allowed\n"
     ]
    }
   ],
   "source": [
    "medical_cause=input(\"enter your medical cause:\")\n",
    "if medical_cause=='Y':\n",
    "    print(\"You are allowed\")\n",
    "else:\n",
    "    print(\"you are not allowed\")"
   ]
  }
 ],
 "metadata": {
  "kernelspec": {
   "display_name": "Python 3 (ipykernel)",
   "language": "python",
   "name": "python3"
  },
  "language_info": {
   "codemirror_mode": {
    "name": "ipython",
    "version": 3
   },
   "file_extension": ".py",
   "mimetype": "text/x-python",
   "name": "python",
   "nbconvert_exporter": "python",
   "pygments_lexer": "ipython3",
   "version": "3.11.4"
  }
 },
 "nbformat": 4,
 "nbformat_minor": 5
}
