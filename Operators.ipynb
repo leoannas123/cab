{
 "cells": [
  {
   "cell_type": "code",
   "execution_count": 1,
   "id": "fea932c0",
   "metadata": {},
   "outputs": [
    {
     "name": "stdout",
     "output_type": "stream",
     "text": [
      "15\n"
     ]
    }
   ],
   "source": [
    "print(10+5)"
   ]
  },
  {
   "cell_type": "code",
   "execution_count": 4,
   "id": "6d62c9a7",
   "metadata": {},
   "outputs": [
    {
     "name": "stdout",
     "output_type": "stream",
     "text": [
      "17\n"
     ]
    }
   ],
   "source": [
    "x=5\n",
    "y=12\n",
    "print(x+y)"
   ]
  },
  {
   "cell_type": "code",
   "execution_count": 5,
   "id": "b0c26e83",
   "metadata": {},
   "outputs": [
    {
     "name": "stdout",
     "output_type": "stream",
     "text": [
      "7\n"
     ]
    }
   ],
   "source": [
    "x=4\n",
    "y=3\n",
    "print(x+y)"
   ]
  },
  {
   "cell_type": "code",
   "execution_count": 6,
   "id": "45baf8cb",
   "metadata": {},
   "outputs": [
    {
     "name": "stdout",
     "output_type": "stream",
     "text": [
      "56\n"
     ]
    }
   ],
   "source": [
    "x=7\n",
    "y=8\n",
    "print(x*y)"
   ]
  },
  {
   "cell_type": "code",
   "execution_count": 7,
   "id": "eb198d24",
   "metadata": {},
   "outputs": [
    {
     "name": "stdout",
     "output_type": "stream",
     "text": [
      "4.857142857142857\n"
     ]
    }
   ],
   "source": [
    "x=34\n",
    "y=7\n",
    "print(x/y)"
   ]
  },
  {
   "cell_type": "code",
   "execution_count": 9,
   "id": "abec0be4",
   "metadata": {},
   "outputs": [
    {
     "name": "stdout",
     "output_type": "stream",
     "text": [
      "7\n"
     ]
    }
   ],
   "source": [
    "x=15\n",
    "y=2\n",
    "print(x//y)"
   ]
  },
  {
   "cell_type": "code",
   "execution_count": 10,
   "id": "2a6a890a",
   "metadata": {},
   "outputs": [
    {
     "name": "stdout",
     "output_type": "stream",
     "text": [
      "1\n"
     ]
    }
   ],
   "source": [
    "x=5\n",
    "y=2\n",
    "print(x%y)"
   ]
  },
  {
   "cell_type": "code",
   "execution_count": 11,
   "id": "dda8d452",
   "metadata": {},
   "outputs": [
    {
     "name": "stdout",
     "output_type": "stream",
     "text": [
      "32\n"
     ]
    }
   ],
   "source": [
    "x=2\n",
    "y=5\n",
    "print(x**y)"
   ]
  },
  {
   "cell_type": "code",
   "execution_count": 12,
   "id": "93a7a371",
   "metadata": {},
   "outputs": [
    {
     "name": "stdout",
     "output_type": "stream",
     "text": [
      "False\n"
     ]
    }
   ],
   "source": [
    "x=5\n",
    "y=3\n",
    "print(x==y)"
   ]
  },
  {
   "cell_type": "code",
   "execution_count": 13,
   "id": "5bf591a8",
   "metadata": {},
   "outputs": [
    {
     "name": "stdout",
     "output_type": "stream",
     "text": [
      "True\n"
     ]
    }
   ],
   "source": [
    "x=5\n",
    "y=3\n",
    "print(x != y)"
   ]
  },
  {
   "cell_type": "code",
   "execution_count": 14,
   "id": "ef6436dc",
   "metadata": {},
   "outputs": [
    {
     "name": "stdout",
     "output_type": "stream",
     "text": [
      "True\n"
     ]
    }
   ],
   "source": [
    "x=7\n",
    "y=3\n",
    "print(x>y)"
   ]
  },
  {
   "cell_type": "code",
   "execution_count": 15,
   "id": "22fc8dd6",
   "metadata": {},
   "outputs": [
    {
     "name": "stdout",
     "output_type": "stream",
     "text": [
      "0\n"
     ]
    }
   ],
   "source": [
    "print((6 + 3) - (7+2))"
   ]
  },
  {
   "cell_type": "code",
   "execution_count": 16,
   "id": "aa32eb32",
   "metadata": {},
   "outputs": [
    {
     "name": "stdout",
     "output_type": "stream",
     "text": [
      "115\n"
     ]
    }
   ],
   "source": [
    "print(100 + 5 * 3)"
   ]
  },
  {
   "cell_type": "code",
   "execution_count": 17,
   "id": "d9fe9ff1",
   "metadata": {},
   "outputs": [
    {
     "name": "stdout",
     "output_type": "stream",
     "text": [
      "5\n"
     ]
    }
   ],
   "source": [
    "print(5+4-7+3)"
   ]
  },
  {
   "cell_type": "code",
   "execution_count": 18,
   "id": "4ce8567a",
   "metadata": {},
   "outputs": [
    {
     "name": "stdout",
     "output_type": "stream",
     "text": [
      "0\n"
     ]
    }
   ],
   "source": [
    "x=5\n",
    "y=15\n",
    "print(x//y)"
   ]
  },
  {
   "cell_type": "code",
   "execution_count": 20,
   "id": "753cf50d",
   "metadata": {},
   "outputs": [
    {
     "name": "stdout",
     "output_type": "stream",
     "text": [
      "8\n"
     ]
    }
   ],
   "source": [
    "print(5 + 4 - 4 + 3)"
   ]
  },
  {
   "cell_type": "code",
   "execution_count": 21,
   "id": "ad48164c",
   "metadata": {},
   "outputs": [
    {
     "name": "stdout",
     "output_type": "stream",
     "text": [
      "2\n"
     ]
    }
   ],
   "source": [
    "x=5\n",
    "x%=3\n",
    "print(x)"
   ]
  },
  {
   "cell_type": "code",
   "execution_count": 22,
   "id": "753c6ced",
   "metadata": {},
   "outputs": [
    {
     "name": "stdout",
     "output_type": "stream",
     "text": [
      "2\n"
     ]
    }
   ],
   "source": [
    "x=5\n",
    "x-=3\n",
    "print(x)"
   ]
  },
  {
   "cell_type": "code",
   "execution_count": 23,
   "id": "6c4a8385",
   "metadata": {},
   "outputs": [
    {
     "name": "stdout",
     "output_type": "stream",
     "text": [
      "False\n"
     ]
    }
   ],
   "source": [
    "x=4\n",
    "y=2\n",
    "print(x<y)"
   ]
  },
  {
   "cell_type": "code",
   "execution_count": 24,
   "id": "cb4db256",
   "metadata": {},
   "outputs": [
    {
     "name": "stdout",
     "output_type": "stream",
     "text": [
      "5\n"
     ]
    }
   ],
   "source": [
    "x=5\n",
    "print(x)"
   ]
  },
  {
   "cell_type": "code",
   "execution_count": 25,
   "id": "89b995a5",
   "metadata": {},
   "outputs": [
    {
     "name": "stdout",
     "output_type": "stream",
     "text": [
      "False\n"
     ]
    }
   ],
   "source": [
    "x=6\n",
    "y=3\n",
    "print(x<y)"
   ]
  },
  {
   "cell_type": "code",
   "execution_count": 28,
   "id": "e724d090",
   "metadata": {},
   "outputs": [
    {
     "name": "stdout",
     "output_type": "stream",
     "text": [
      "1\n"
     ]
    }
   ],
   "source": [
    "x=5\n",
    "x-=4\n",
    "print(x)"
   ]
  },
  {
   "cell_type": "code",
   "execution_count": 29,
   "id": "78b01565",
   "metadata": {},
   "outputs": [
    {
     "name": "stdout",
     "output_type": "stream",
     "text": [
      "5\n"
     ]
    }
   ],
   "source": [
    "x=5\n",
    "print(x)"
   ]
  },
  {
   "cell_type": "code",
   "execution_count": 32,
   "id": "ddafc4d8",
   "metadata": {},
   "outputs": [
    {
     "name": "stdout",
     "output_type": "stream",
     "text": [
      "3\n"
     ]
    }
   ],
   "source": [
    "x=6\n",
    "x-=3\n",
    "print(x)"
   ]
  },
  {
   "cell_type": "code",
   "execution_count": 33,
   "id": "35d2534b",
   "metadata": {},
   "outputs": [
    {
     "name": "stdout",
     "output_type": "stream",
     "text": [
      "1.6666666666666667\n"
     ]
    }
   ],
   "source": [
    "x = 5\n",
    "x /=3\n",
    "print(x)"
   ]
  },
  {
   "cell_type": "code",
   "execution_count": 35,
   "id": "be65a59f",
   "metadata": {},
   "outputs": [
    {
     "name": "stdout",
     "output_type": "stream",
     "text": [
      "True\n"
     ]
    }
   ],
   "source": [
    "x=7\n",
    "y=5\n",
    "print(x >=y)"
   ]
  },
  {
   "cell_type": "code",
   "execution_count": 36,
   "id": "f132f662",
   "metadata": {},
   "outputs": [
    {
     "name": "stdout",
     "output_type": "stream",
     "text": [
      "False\n"
     ]
    }
   ],
   "source": [
    "x=5\n",
    "y=6\n",
    "print(x >=y)"
   ]
  },
  {
   "cell_type": "code",
   "execution_count": 6,
   "id": "466ce329",
   "metadata": {
    "scrolled": true
   },
   "outputs": [
    {
     "name": "stdout",
     "output_type": "stream",
     "text": [
      "Enter number;67\n",
      "Enter number;34\n",
      "Addition: 101\n",
      "subtraction: 33\n",
      "multiplication: 2278\n",
      "Division: 1.9705882352941178\n",
      "modulus: 33\n",
      "Exponential: 122051547946915276501139298573834221091215046641684146917022729\n"
     ]
    }
   ],
   "source": [
    "x=int(input('Enter number;'))\n",
    "y=int(input('Enter number;'))\n",
    "print('Addition:' , x+y)\n",
    "print('subtraction:' , x-y)\n",
    "print('multiplication:', x*y)\n",
    "print('Division:' , x/y)\n",
    "print('modulus:', x%y)\n",
    "print('Exponential:', x**y)"
   ]
  },
  {
   "cell_type": "code",
   "execution_count": 10,
   "id": "e427a6a3",
   "metadata": {},
   "outputs": [
    {
     "name": "stdout",
     "output_type": "stream",
     "text": [
      "Enter number;345\n",
      "Enter number;67\n",
      "Equal is  False\n",
      "Not Equal; True\n",
      "greater than: True\n",
      "greater than equal: True\n",
      "less than: False\n",
      "less than: False\n"
     ]
    }
   ],
   "source": [
    "#comparison operator \n",
    "x=int(input('Enter number;'))\n",
    "y=int(input('Enter number;'))\n",
    "print('Equal is ', x==y)\n",
    "print('Not Equal;',x!= y)\n",
    "print('greater than:',x>4)\n",
    "print('greater than equal:',x>=4)\n",
    "print('less than:', x<y)\n",
    "print('less than:',x<=y)"
   ]
  },
  {
   "cell_type": "code",
   "execution_count": 2,
   "id": "4b28df55",
   "metadata": {},
   "outputs": [
    {
     "name": "stdout",
     "output_type": "stream",
     "text": [
      "Enter the number;34\n",
      "Enter the number;55\n",
      "Equal is 34\n",
      "add and assign:\n",
      "multiply and assign:\n",
      "divide and assign: 0.6181818181818182\n",
      "divide and assign: 0.6181818181818182\n",
      "power and assign: 1870\n"
     ]
    }
   ],
   "source": [
    "#Assignment operators\n",
    "x=int(input('Enter the number;'))\n",
    "y=int(input('Enter the number;'))\n",
    "print('Equal is',x)\n",
    "print('add and assign:')\n",
    "print('multiply and assign:')\n",
    "print('divide and assign:',x/y)\n",
    "print('divide and assign:',x/y)\n",
    "print('power and assign:',x*y)"
   ]
  },
  {
   "cell_type": "code",
   "execution_count": 4,
   "id": "60c235c3",
   "metadata": {},
   "outputs": [
    {
     "name": "stdout",
     "output_type": "stream",
     "text": [
      "The numbers are greater than 0\n",
      "Atleast one number is not greater than 0\n"
     ]
    }
   ],
   "source": [
    "#logical operator\n",
    "a=10\n",
    "b=10 \n",
    "c=-10\n",
    "\n",
    "if a > 0 and b > 0:\n",
    "    print(\"The numbers are greater than 0\")\n",
    "if a > 0 and b >0 and c > 0:\n",
    "    print(\"The number are greater than 0\")\n",
    "else:\n",
    "    print(\"Atleast one number is not greater than 0\")"
   ]
  },
  {
   "cell_type": "code",
   "execution_count": 10,
   "id": "91272bdb",
   "metadata": {},
   "outputs": [
    {
     "name": "stdout",
     "output_type": "stream",
     "text": [
      "Enter number:70\n",
      "Enter number:90\n",
      "Equal is False\n",
      "Not equal; True\n",
      "greater than True\n",
      "greater than equal True\n",
      "less than True\n",
      "less than equal: True\n",
      "less than equal: True\n"
     ]
    }
   ],
   "source": [
    "#comparision operator \n",
    "x=int(input('Enter number:'))\n",
    "y=int(input('Enter number:'))\n",
    "print('Equal is' ,x==y)\n",
    "print('Not equal;', x!=y)\n",
    "print('greater than' , x>4)\n",
    "print('greater than equal',x>=4)\n",
    "print('less than', x<y)\n",
    "print('less than equal:',x<y)\n",
    "print('less than equal:', x<=y)"
   ]
  },
  {
   "cell_type": "code",
   "execution_count": 11,
   "id": "b47ead06",
   "metadata": {},
   "outputs": [
    {
     "name": "stdout",
     "output_type": "stream",
     "text": [
      "a >> 1 = 5\n",
      "b << 1 = -5\n",
      "a << 1 = 10\n",
      "b << 1 = -20\n"
     ]
    }
   ],
   "source": [
    "#bitwise operator\n",
    "a=10\n",
    "b=-10\n",
    "print(\"a >> 1 =\", a>>1)\n",
    "print(\"b << 1 =\", b>>1)\n",
    "a=5\n",
    "b=-10\n",
    "print(\"a << 1 =\", a<<1)\n",
    "print(\"b << 1 =\", b<<1)"
   ]
  },
  {
   "cell_type": "code",
   "execution_count": 16,
   "id": "044d29cd",
   "metadata": {},
   "outputs": [
    {
     "name": "stdout",
     "output_type": "stream",
     "text": [
      "x is NOT present in given list\n",
      "y is present in given list\n"
     ]
    }
   ],
   "source": [
    "#membership operator\n",
    "x=24\n",
    "y=20\n",
    "list = [10,20,30,40,50]\n",
    "if (x not in list):\n",
    "    print(\"x is NOT present in given list\")\n",
    "else:\n",
    "    print(\"x is present in given list\")\n",
    "if(y in list):\n",
    "    print(\"y is present in given list\")\n",
    "else:\n",
    "    print(\"y is NOT present in given list\") "
   ]
  },
  {
   "cell_type": "code",
   "execution_count": 18,
   "id": "0bf58c44",
   "metadata": {},
   "outputs": [
    {
     "name": "stdout",
     "output_type": "stream",
     "text": [
      "False\n"
     ]
    },
    {
     "data": {
      "text/plain": [
       "140713649345512"
      ]
     },
     "execution_count": 18,
     "metadata": {},
     "output_type": "execute_result"
    }
   ],
   "source": [
    "#identity operator\n",
    "x=5\n",
    "y=7\n",
    "print(x is y)\n",
    "id(x)\n",
    "id(y)"
   ]
  },
  {
   "cell_type": "code",
   "execution_count": null,
   "id": "1b50f4ad",
   "metadata": {},
   "outputs": [],
   "source": []
  }
 ],
 "metadata": {
  "kernelspec": {
   "display_name": "Python 3 (ipykernel)",
   "language": "python",
   "name": "python3"
  },
  "language_info": {
   "codemirror_mode": {
    "name": "ipython",
    "version": 3
   },
   "file_extension": ".py",
   "mimetype": "text/x-python",
   "name": "python",
   "nbconvert_exporter": "python",
   "pygments_lexer": "ipython3",
   "version": "3.11.4"
  }
 },
 "nbformat": 4,
 "nbformat_minor": 5
}
